{
 "cells": [
  {
   "cell_type": "markdown",
   "metadata": {},
   "source": [
    "## 1. django_db 생성\n",
    "```\n",
    "C:\\> mysql –u python –p\n",
    "MariaDB [(none)]> CREATE DATABASE django_db;\n",
    "MariaDB [(none)]> SHOW DATABASES;\n",
    "MariaDB [(python_db)]> use django_db;\n",
    "```"
   ]
  },
  {
   "cell_type": "markdown",
   "metadata": {},
   "source": [
    "## 2. pymysql 과 mysqlclient 설치\n",
    "* django와 mysql(MariaDB)을 연동하기 위해서는 pymysql과 mysqlclient라는 패키지가 둘 다 필요합니다.\n",
    "\n",
    "* 1) Mysqlclient (https://pypi.org/project/mysqlclient/,\n",
    "https://github.com/PyMySQL/mysqlclient-python )\n",
    "* 2) Pymysql (https://pypi.org/project/PyMySQL/\n",
    "https://github.com/PyMySQL/PyMySQL )\n",
    "\n",
    "```\n",
    "pip install mysqlclient\n",
    "pip install pymysql\n",
    "```"
   ]
  },
  {
   "cell_type": "markdown",
   "metadata": {},
   "source": [
    "## 3. settings.py 파일 수정\n",
    "\n",
    "```python\n",
    "import pymysql\n",
    "pymysql.version_info = (1, 3, 13, \"final\", 0)\n",
    "pymysql.install_as_MySQLdb()\n",
    "DATABASES = {\n",
    "    # 기존에 쓰던것은 sql lite\n",
    "     # 'default': {\n",
    "     # 'ENGINE': 'django.db.backends.sqlite3',\n",
    "     # 'NAME': os.path.join(BASE_DIR, 'db.sqlite3'),\n",
    "     # }\n",
    "     'default': {\n",
    "     'ENGINE': 'django.db.backends.mysql',\n",
    "     'NAME': 'django_db', # DB명\n",
    "     'USER': 'python', # 데이터베이스 계정\n",
    "     'PASSWORD':'python', # 계정 비밀번호\n",
    "     'HOST':'localhost', # 데이테베이스 IP\n",
    "     'PORT':'3306', # 데이터베이스 port\n",
    "     }\n",
    "    }\n",
    "\n",
    "```"
   ]
  },
  {
   "cell_type": "markdown",
   "metadata": {},
   "source": [
    "## 4. Django 프로젝트와 mariaDB연결하기\n",
    "\n",
    "#### MariaDB에 table 추가해주기\n",
    "\n",
    "```python manage.py migrate```\n",
    "\n",
    "* cmd에서 확인이 가능하다\n",
    "\n",
    "![maria](img/maria.PNG)"
   ]
  },
  {
   "cell_type": "markdown",
   "metadata": {},
   "source": [
    "## 5. admin id_pw 만들기\n",
    "\n",
    "```\n",
    "\\Users\\i\\Documents\\TIL\\django\\django_src>python manage.py createsuperuser\n",
    "사용자 이름 (leave blank to use 'i'): django\n",
    "이메일 주소: django\n",
    "Error: 올바른 이메일 주소를 입력하세요.\n",
    "이메일 주소: django@jdango.com\n",
    "Password:\n",
    "Password (again):\n",
    "비밀번호가 사용자 이름와 너무 유사합니다.\n",
    "비밀번호가 너무 짧습니다. 최소 8 문자를 포함해야 합니다.\n",
    "비밀번호가 너무 일상적인 단어입니다.\n",
    "Bypass password validation and create user anyway? [y/N]: y\n",
    "Superuser created successfully.\n",
    "\n",
    "C:\\Users\\i\\Documents\\TIL\\django\\django_src>\n",
    "\n",
    "```\n"
   ]
  },
  {
   "attachments": {},
   "cell_type": "markdown",
   "metadata": {},
   "source": [
    "## 6. mariaDB\n",
    "* new > Data source > MariaDB\n",
    "\n",
    "![maria_pycharm](img/maria_pycharm.PNG)"
   ]
  },
  {
   "cell_type": "code",
   "execution_count": null,
   "metadata": {},
   "outputs": [],
   "source": []
  }
 ],
 "metadata": {
  "kernelspec": {
   "display_name": "Python 3",
   "language": "python",
   "name": "python3"
  },
  "language_info": {
   "codemirror_mode": {
    "name": "ipython",
    "version": 3
   },
   "file_extension": ".py",
   "mimetype": "text/x-python",
   "name": "python",
   "nbconvert_exporter": "python",
   "pygments_lexer": "ipython3",
   "version": "3.7.0"
  }
 },
 "nbformat": 4,
 "nbformat_minor": 2
}
