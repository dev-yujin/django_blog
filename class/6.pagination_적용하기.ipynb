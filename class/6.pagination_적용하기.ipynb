{
 "cells": [
  {
   "cell_type": "markdown",
   "metadata": {},
   "source": [
    "## post_list에 Django의 pagination 적용하기\n",
    "* Django.core.paginator를 사용한다."
   ]
  },
  {
   "cell_type": "markdown",
   "metadata": {},
   "source": [
    "### 1. views.py 수정하기\n",
    "```python\n",
    "def post_list(request):\n",
    "    name = 'Django'\n",
    "\n",
    "    post_list = Post.objects.filter(published_date__lte=timezone.now()).order_by('published_date')\n",
    "    paginator = Paginator(post_list, 2) # 한 페이지에 두개씩\n",
    "    page = request.GET.get('page') # 페이지 번호 : 쿼리 스트링으로 넘기기 위한 변수\n",
    "    \n",
    "    # 예외처리\n",
    "    try:\n",
    "        posts = paginator.page(page)\n",
    "    except PageNotAnInteger:\n",
    "        posts = paginator.page(1)\n",
    "    except EmptyPage: # 페이지가 없으면 전체 글을 준다.\n",
    "        posts = paginator.page(paginator.num_pages)\n",
    "    return render(request, 'blog/post_list.html', {'posts': posts})\n",
    "```\n",
    "\n"
   ]
  },
  {
   "cell_type": "markdown",
   "metadata": {},
   "source": [
    "### 2. post_list 수정하기 \n",
    "* end for 다음에 include  추가하기\n",
    "```html\n",
    "{% include 'blog/pagination.html' with page=posts %}\n",
    "```\n",
    "\n",
    "* page 표시가 생성되었다. \n",
    "![page_create](img/page.PNG)"
   ]
  },
  {
   "cell_type": "markdown",
   "metadata": {},
   "source": []
  }
 ],
 "metadata": {
  "kernelspec": {
   "display_name": "Python 3",
   "language": "python",
   "name": "python3"
  },
  "language_info": {
   "codemirror_mode": {
    "name": "ipython",
    "version": 3
   },
   "file_extension": ".py",
   "mimetype": "text/x-python",
   "name": "python",
   "nbconvert_exporter": "python",
   "pygments_lexer": "ipython3",
   "version": "3.7.0"
  }
 },
 "nbformat": 4,
 "nbformat_minor": 2
}
