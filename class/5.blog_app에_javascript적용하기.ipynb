{
 "cells": [
  {
   "cell_type": "markdown",
   "metadata": {},
   "source": [
    "# javascript 적용해보기\n",
    "* 글 삭제를 할때, 삭제 확인문구를 띄운 후 글을 삭제하도록 한다.\n",
    "\n",
    "## 1. post_list.html 수정\n",
    "\n",
    "* 앞 부분에 script 태그를 써서 javascript 코드를 추가해준다\n",
    "\n",
    "```javascript\n",
    "{% extends 'blog/base.html' %}\n",
    "\n",
    "{% block content %}\n",
    "<script>\n",
    "    function post_remove(){\n",
    "        //{% url 'post_remove' pk=post.pk %}\n",
    "        var result = confirm('Post를 삭세하시겠습니까?')\n",
    "        if(result) { //yes를 누르면 true를 반환\n",
    "            var remove_url = \"{% url 'post_remove' pk=post.pk %}\"\n",
    "            document.location.href = remove_url // a 태그에 href를 주는 것과 같은 역할\n",
    "        }\n",
    "    }\n",
    "</script>\n",
    "```\n",
    "\n",
    "* 글 삭제 버튼 부분에 onclick 옵션을 사용하여 만든 함수를 넣어준다.\n",
    "\n",
    "```html\n",
    "{% if user.is_authenticated %}\n",
    "    <!--          글 수정 버튼 -->\n",
    "      <a class = \"btn btn-default\" href=\"{% url 'post_edit' pk=post.pk %}\">\n",
    "          <span class = \"edit-btn glyphicon glyphicon-pencil\"></span>\n",
    "      </a>\n",
    "    <!--          글 삭제 버튼-->\n",
    "        <!-- js적용 -->\n",
    "      <a class = \"btn btn-default\" href=\"#\" onclick=post_remove()> \n",
    "          <span class=\"glyphicon glyphicon-remove\"></span>\n",
    "      </a>\n",
    "{% endif %}\n",
    "```"
   ]
  },
  {
   "cell_type": "markdown",
   "metadata": {},
   "source": [
    "## 2. 결과화면\n",
    "\n",
    "![result_js](img/result_js.PNG)"
   ]
  },
  {
   "cell_type": "code",
   "execution_count": null,
   "metadata": {},
   "outputs": [],
   "source": []
  }
 ],
 "metadata": {
  "kernelspec": {
   "display_name": "Python 3",
   "language": "python",
   "name": "python3"
  },
  "language_info": {
   "codemirror_mode": {
    "name": "ipython",
    "version": 3
   },
   "file_extension": ".py",
   "mimetype": "text/x-python",
   "name": "python",
   "nbconvert_exporter": "python",
   "pygments_lexer": "ipython3",
   "version": "3.7.0"
  }
 },
 "nbformat": 4,
 "nbformat_minor": 2
}
