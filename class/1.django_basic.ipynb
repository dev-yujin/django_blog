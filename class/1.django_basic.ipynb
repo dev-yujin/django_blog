{
 "cells": [
  {
   "cell_type": "markdown",
   "metadata": {},
   "source": [
    "# 1. Django basic\n",
    "\n",
    "\n",
    "\n",
    "### 역할의 분리\n",
    "* \"Separation Of Concerns (Responsibility)\n",
    "* https://github.com/django/django\n",
    "---"
   ]
  },
  {
   "cell_type": "markdown",
   "metadata": {},
   "source": [
    "## 1-1 MVC pattern\n",
    "\n",
    "##### M(Model)\n",
    "* DB와 연동\n",
    "##### V(View)\n",
    "* 화면\n",
    "##### C(Controller)\n",
    "* View 와 Model을 연결\n",
    "\n",
    "\n",
    "\n",
    "## 1-2 MVT pattern\n",
    "\n",
    "##### M(Model)\n",
    "\n",
    "##### V(View)\n",
    "* template와 Model을 연결\n",
    "* 기존 MVC 패턴의 controller와 비슷한 역할\n",
    "##### T(Template)\n",
    "* 화면\n",
    "\n",
    "\n",
    "---\n",
    "---"
   ]
  },
  {
   "cell_type": "markdown",
   "metadata": {},
   "source": [
    "### ORM 매핑 Rule\n",
    "\n",
    "* Class <=> Table\n",
    "* Object <=> Row(Record)\n",
    "* Variable(Attribute) <=> Column\n",
    "\n",
    "---\n",
    "---"
   ]
  },
  {
   "cell_type": "markdown",
   "metadata": {},
   "source": [
    "## 2. 시작하기\n",
    "\n",
    "---\n",
    "\n",
    "### 2-1 django 프로젝트 생성\n",
    "```django-admin startproject mydjango django_src```\n",
    "* django_src 파일에 mydjango 프로젝트를 생성\n",
    "* 프로젝트 구성\n",
    "    * https://github.com/django/django/tree/master/django/conf/project_template\n",
    "\n",
    "---"
   ]
  },
  {
   "cell_type": "markdown",
   "metadata": {},
   "source": [
    "### 2-2 setting.py 변경\n",
    "\n",
    "* 언어와 시간을 변경해준다\n",
    "```python\n",
    "LANGUAGE_CODE = 'ko'\n",
    "TIME_ZONE = 'Asia/Seoul'\n",
    "```\n",
    "\n",
    "* 정적 파일 경로 추가\n",
    "```python\n",
    "STATIC_URL = '/static/'\n",
    "STATIC_ROOT = os.path.join(BASE_DIR, STATIC_URL)\n",
    "```\n",
    "\n",
    "---\n",
    "### 2-3 DB 생성과 Server 시작\n",
    "\n",
    "##### db 생성\n",
    "```python manage.py migrate```\n",
    "* db.splite3 파일이 생성된다.\n",
    "* django 는 sql lite를 사용한다.\n",
    "     * sqllite viewer를 사용하여 db.splite3 파일을 볼 수 있다.\n",
    "\n",
    "\n",
    "\n",
    "##### server 시작\n",
    "```python manage.py runserver```\n",
    "* http://127.0.0.1:8000/\n",
    "    * 이곳으로 접속해서 생성된 서버를 확인할 수 있다.\n",
    "\n",
    "\n",
    "\n",
    "---\n",
    "### 2-4 Superuser 생성 및 관리자 화면\n",
    "\n",
    "##### superuser 계정 생성\n",
    "```python manage.py createsuperuser```\n"
   ]
  }
 ],
 "metadata": {
  "kernelspec": {
   "display_name": "Python 3",
   "language": "python",
   "name": "python3"
  },
  "language_info": {
   "codemirror_mode": {
    "name": "ipython",
    "version": 3
   },
   "file_extension": ".py",
   "mimetype": "text/x-python",
   "name": "python",
   "nbconvert_exporter": "python",
   "pygments_lexer": "ipython3",
   "version": "3.7.0"
  }
 },
 "nbformat": 4,
 "nbformat_minor": 2
}
